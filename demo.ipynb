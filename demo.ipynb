{
 "cells": [
  {
   "cell_type": "code",
   "execution_count": 64,
   "metadata": {},
   "outputs": [
    {
     "name": "stdout",
     "output_type": "stream",
     "text": [
      "The autoreload extension is already loaded. To reload it, use:\n",
      "  %reload_ext autoreload\n"
     ]
    }
   ],
   "source": [
    "%load_ext autoreload\n",
    "%autoreload 2"
   ]
  },
  {
   "cell_type": "markdown",
   "metadata": {},
   "source": [
    "### 1. Dependencies"
   ]
  },
  {
   "cell_type": "code",
   "execution_count": 65,
   "metadata": {},
   "outputs": [],
   "source": [
    "# !pip install -r requirements.txt"
   ]
  },
  {
   "cell_type": "markdown",
   "metadata": {},
   "source": [
    "### 2. Imports"
   ]
  },
  {
   "cell_type": "code",
   "execution_count": 66,
   "metadata": {},
   "outputs": [],
   "source": [
    "import os\n",
    "import sys\n",
    "import pathlib\n",
    "import openai\n",
    "\n",
    "# Add the src directory to the path\n",
    "sys.path.insert(0, str(pathlib.Path('src')))"
   ]
  },
  {
   "cell_type": "code",
   "execution_count": 67,
   "metadata": {},
   "outputs": [],
   "source": [
    "from constants import DEFAULT_LOG_PATH, Models, MODELS_COST\n",
    "from openai_cost_tracker_viz import OpenAICostTrackerViz\n",
    "from openai_cost_tracker_utils import OpenAICostTrackerUtils\n",
    "from openai_cost_tracker import OpenAICostTracker"
   ]
  },
  {
   "cell_type": "markdown",
   "metadata": {},
   "source": [
    "### 3. Set API key environment variable"
   ]
  },
  {
   "cell_type": "code",
   "execution_count": 68,
   "metadata": {},
   "outputs": [],
   "source": [
    "# Export the proper environment variables based on the client you are using.\n",
    "\n",
    "# OpenAI API Key\n",
    "os.environ[\"OPENAI_ORGANIZATION\"] = OpenAICostTrackerUtils.get_api_key(path='openai_organization.txt')\n",
    "os.environ[\"OPENAI_API_KEY\"] = OpenAICostTrackerUtils.get_api_key(path='openai_api_key.txt')\n",
    "\n",
    "# Azure OpenAI API Key\n",
    "os.environ[\"AZURE_OPENAI_KEY\"] = OpenAICostTrackerUtils.get_api_key('azure_openai_key.txt')"
   ]
  },
  {
   "cell_type": "markdown",
   "metadata": {},
   "source": [
    "### 4. Input Arguments"
   ]
  },
  {
   "cell_type": "code",
   "execution_count": 69,
   "metadata": {},
   "outputs": [],
   "source": [
    "experiment_name = \"Demo\"\n",
    "messages = [\n",
    "    {\"role\": \"system\", \"content\": \"You are a helpful assistant.\"},\n",
    "    {\"role\": \"user\", \"content\": \"Who won the euro 2020?\"},\n",
    "]\n",
    "cost_upperbound = 2\n",
    "log_folder = DEFAULT_LOG_PATH"
   ]
  },
  {
   "cell_type": "code",
   "execution_count": 70,
   "metadata": {},
   "outputs": [],
   "source": [
    "# Azure OpenAI usage\n",
    "model = Models.AZURE_3_5_TURBO\n",
    "client_args = {\n",
    "    \"azure_endpoint\": \"https://your_key.openai.azure.com/\",\n",
    "    \"api_key\": os.getenv(\"AZURE_OPENAI_KEY\"),\n",
    "    \"api_version\": \"your_api_version\",\n",
    "}\n",
    "input_cost = MODELS_COST[model.value][\"input\"]\n",
    "output_cost = MODELS_COST[model.value][\"output\"]"
   ]
  },
  {
   "cell_type": "code",
   "execution_count": 71,
   "metadata": {},
   "outputs": [],
   "source": [
    "# OpenAI usage\n",
    "client = openai.OpenAI(api_key=os.getenv(\"OPENAI_API_KEY\"))\n",
    "model = Models.TURBO_3_5\n",
    "client_args = {}\n",
    "input_cost = MODELS_COST[model.value][\"input\"]\n",
    "output_cost = MODELS_COST[model.value][\"output\"]"
   ]
  },
  {
   "cell_type": "markdown",
   "metadata": {},
   "source": [
    "### 5. Demo"
   ]
  },
  {
   "cell_type": "code",
   "execution_count": 72,
   "metadata": {},
   "outputs": [],
   "source": [
    "# Create the OpenAICostTracker object\n",
    "cost_tracker = OpenAICostTracker(\n",
    "    experiment_name = experiment_name,\n",
    "    model = model.value,\n",
    "    input_cost = input_cost,\n",
    "    output_cost = output_cost,\n",
    "    log_folder = log_folder,\n",
    "    cost_upperbound = cost_upperbound\n",
    ")"
   ]
  },
  {
   "cell_type": "code",
   "execution_count": 73,
   "metadata": {},
   "outputs": [
    {
     "name": "stdout",
     "output_type": "stream",
     "text": [
      "Italy\n"
     ]
    }
   ],
   "source": [
    "# Run the chat completion\n",
    "response = client.chat.completions.create(model=model.value, messages=messages, max_tokens=1, temperature=0)\n",
    "\n",
    "print(response.choices[0].message.content)\n",
    "\n",
    "cost_tracker.update_cost(response)"
   ]
  },
  {
   "cell_type": "markdown",
   "metadata": {},
   "source": [
    "### 6. Data Visualization"
   ]
  },
  {
   "cell_type": "code",
   "execution_count": 74,
   "metadata": {},
   "outputs": [
    {
     "name": "stdout",
     "output_type": "stream",
     "text": [
      "Total cost: 1.4e-05 (USD)\n"
     ]
    }
   ],
   "source": [
    "# Print the total cost\n",
    "OpenAICostTrackerViz.print_total_cost(path=DEFAULT_LOG_PATH)"
   ]
  },
  {
   "cell_type": "code",
   "execution_count": 75,
   "metadata": {},
   "outputs": [
    {
     "name": "stdout",
     "output_type": "stream",
     "text": [
      "gpt-3.5-turbo: 1.4e-05 (USD)\n"
     ]
    }
   ],
   "source": [
    "# Cost by model\n",
    "OpenAICostTrackerViz.print_total_cost_by_model(path=DEFAULT_LOG_PATH)"
   ]
  },
  {
   "cell_type": "code",
   "execution_count": 76,
   "metadata": {},
   "outputs": [
    {
     "data": {
      "image/png": "[encoded data removed]",
      "text/plain": [
       "<Figure size 640x480 with 1 Axes>"
      ]
     },
     "metadata": {},
     "output_type": "display_data"
    }
   ],
   "source": [
    "# Visualize the cost by day\n",
    "OpenAICostTrackerViz.plot_cost_by_day(path=DEFAULT_LOG_PATH)"
   ]
  },
  {
   "cell_type": "code",
   "execution_count": null,
   "metadata": {},
   "outputs": [],
   "source": []
  }
 ],
 "metadata": {
  "kernelspec": {
   "display_name": "Python 3",
   "language": "python",
   "name": "python3"
  },
  "language_info": {
   "codemirror_mode": {
    "name": "ipython",
    "version": 3
   },
   "file_extension": ".py",
   "mimetype": "text/x-python",
   "name": "python",
   "nbconvert_exporter": "python",
   "pygments_lexer": "ipython3",
   "version": "3.12.2"
  }
 },
 "nbformat": 4,
 "nbformat_minor": 2
}
